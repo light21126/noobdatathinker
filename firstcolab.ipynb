{
  "nbformat": 4,
  "nbformat_minor": 0,
  "metadata": {
    "colab": {
      "name": "firstcolab",
      "provenance": [],
      "collapsed_sections": [],
      "authorship_tag": "ABX9TyOaL66XiUVjQWeBFzLGRkIh",
      "include_colab_link": true
    },
    "kernelspec": {
      "name": "python3",
      "display_name": "Python 3"
    },
    "language_info": {
      "name": "python"
    }
  },
  "cells": [
    {
      "cell_type": "markdown",
      "metadata": {
        "id": "view-in-github",
        "colab_type": "text"
      },
      "source": [
        "<a href=\"https://colab.research.google.com/github/light21126/noobdatathinker/blob/main/firstcolab.ipynb\" target=\"_parent\"><img src=\"https://colab.research.google.com/assets/colab-badge.svg\" alt=\"Open In Colab\"/></a>"
      ]
    },
    {
      "cell_type": "code",
      "execution_count": 1,
      "metadata": {
        "id": "vaBzmm3kaSKr",
        "colab": {
          "base_uri": "https://localhost:8080/"
        },
        "outputId": "8e6ff929-1318-432c-b1d1-f4cb9b6c3593"
      },
      "outputs": [
        {
          "output_type": "execute_result",
          "data": {
            "text/plain": [
              "67"
            ]
          },
          "metadata": {},
          "execution_count": 1
        }
      ],
      "source": [
        "44+23\n"
      ]
    },
    {
      "cell_type": "code",
      "source": [
        "a=43\n",
        "b=27\n",
        "print(a+b)"
      ],
      "metadata": {
        "id": "5MYIALw6aa1d",
        "colab": {
          "base_uri": "https://localhost:8080/"
        },
        "outputId": "ce54a016-4d04-46d1-bd89-ca0aa8aa5c2f"
      },
      "execution_count": 2,
      "outputs": [
        {
          "output_type": "stream",
          "name": "stdout",
          "text": [
            "70\n"
          ]
        }
      ]
    }
  ]
}